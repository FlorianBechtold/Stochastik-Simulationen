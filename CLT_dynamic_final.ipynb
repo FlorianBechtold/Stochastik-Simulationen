{
 "cells": [
  {
   "cell_type": "markdown",
   "id": "87f7b895-1fd3-4bb1-9042-eaad697f2287",
   "metadata": {},
   "source": [
    "<span style=\"font-size:25px\">The central limit theorem.</span>\n"
   ]
  },
  {
   "cell_type": "code",
   "execution_count": 2,
   "id": "cc4eff97-68d2-4199-90fa-5c2722be813a",
   "metadata": {},
   "outputs": [],
   "source": [
    "#We wish to illustrate the central limit theorem, which claims:"
   ]
  },
  {
   "cell_type": "code",
   "execution_count": 4,
   "id": "ba4b1298-3d53-45b8-8e79-94a1c3e708d8",
   "metadata": {
    "scrolled": true
   },
   "outputs": [
    {
     "data": {
      "text/latex": [
       "$\\newcommand{\\RR}{\\mathbb{R}}$\n",
       "$\\newcommand{\\Var}{\\mathrm{Var}}$\n",
       "Sei $(X_i)_{i\\in \\mathbb{N}}$ eine Folge unabhängig, identisch verteilter Zufallsvariablen mit $\\mbox{Var}(X_1)<\\infty$. Dann gilt\n",
       "\\begin{equation}\n",
       "\\frac{\\sum_{i=1}^nX_i-n\\mathbb{E}[X_1]}{\\sqrt{n\\mbox{Var}(X_1)}}\\to \\mathcal{N}(0, 1)\n",
       "\\end{equation}\n",
       "in Verteilung, also  für alle $z\\in \\mathbb{R}$\n",
       "\\begin{equation}\n",
       "F_n(z)=\\mathbb{P}\\left( \\frac{S_n-n\\mathbb{E}[X_1]}{\\sqrt{n\\Var(X_1)}}\\leq z\\right)\\to \\Phi(z)\n",
       "\\end{equation}\n",
       "wobei $\\Phi$ die Verteilungsfunktion der Standardnormalverteilung darstellt. Wir machen für die Simulation folgende Annahmen:\n",
       "1) $X_1\\simeq Ber(p)$, 2) $z\\in Z_N=\\{4\\frac{k}{N}, k=-N, ..., 0, ..., N\\}$. Wir nennen im folgenden $N$ auch \"resolution\", also Auflösung.\n"
      ],
      "text/plain": [
       "<IPython.core.display.Latex object>"
      ]
     },
     "metadata": {},
     "output_type": "display_data"
    }
   ],
   "source": [
    "%%latex\n",
    "$\\newcommand{\\RR}{\\mathbb{R}}$\n",
    "$\\newcommand{\\Var}{\\mathrm{Var}}$\n",
    "Sei $(X_i)_{i\\in \\mathbb{N}}$ eine Folge unabhängig, identisch verteilter Zufallsvariablen mit $\\mbox{Var}(X_1)<\\infty$. Dann gilt\n",
    "\\begin{equation}\n",
    "\\frac{\\sum_{i=1}^nX_i-n\\mathbb{E}[X_1]}{\\sqrt{n\\mbox{Var}(X_1)}}\\to \\mathcal{N}(0, 1)\n",
    "\\end{equation}\n",
    "in Verteilung, also  für alle $z\\in \\mathbb{R}$\n",
    "\\begin{equation}\n",
    "F_n(z)=\\mathbb{P}\\left( \\frac{S_n-n\\mathbb{E}[X_1]}{\\sqrt{n\\Var(X_1)}}\\leq z\\right)\\to \\Phi(z)\n",
    "\\end{equation}\n",
    "wobei $\\Phi$ die Verteilungsfunktion der Standardnormalverteilung darstellt. Wir machen für die Simulation folgende Annahmen:\n",
    "1) $X_1\\simeq Ber(p)$, 2) $z\\in Z_N=\\{4\\frac{k}{N}, k=-N, ..., 0, ..., N\\}$. Wir nennen im folgenden $N$ auch \"resolution\", also Auflösung."
   ]
  },
  {
   "cell_type": "code",
   "execution_count": 6,
   "id": "b89cf72f-d7c4-4c2d-a293-45bf0c8492f1",
   "metadata": {},
   "outputs": [
    {
     "data": {
      "application/vnd.jupyter.widget-view+json": {
       "model_id": "bbe236a8a1634cdf8dbe338b8a35da9e",
       "version_major": 2,
       "version_minor": 0
      },
      "text/plain": [
       "interactive(children=(FloatSlider(value=0.5, description='p', layout=Layout(width='500px'), max=0.99, min=0.01…"
      ]
     },
     "metadata": {},
     "output_type": "display_data"
    },
    {
     "data": {
      "text/plain": [
       "<function __main__.Simulationslauf(p=0.5, n=1, resolution=3)>"
      ]
     },
     "execution_count": 6,
     "metadata": {},
     "output_type": "execute_result"
    }
   ],
   "source": [
    "import matplotlib.pyplot as plt\n",
    "from matplotlib.widgets import Slider\n",
    "import seaborn as sns\n",
    "import numpy as np\n",
    "import scipy.stats as stats\n",
    "from scipy.stats import norm\n",
    "from ipywidgets import interact\n",
    "import ipywidgets as widgets\n",
    "from scipy.special import comb\n",
    "from scipy.stats import binom\n",
    "\"\"\"\n",
    "Die folgende Funktion nimmt an als Parameter:\n",
    "p = Erfolgswahrscheinlichkeit\n",
    "n = log_10(Wie viele Zufallsvariablen wir summieren)\n",
    "resolution = Für wie viele Werte von z wir uns die Verteilungsfunktion ansehen möchten\n",
    "\"\"\"\n",
    "def Simulationslauf(p=0.5, n=1,  resolution=3):\n",
    "    #Punkte, für die wir die Verteilungsfunktion auswerten möchten\n",
    "    z=np.linspace(-4, 4, resolution)\n",
    "    n=int(10**n)\n",
    "    #updated z\n",
    "    z_transformed=np.sqrt(n*p*(1-p))*z+n*p\n",
    "    F_n=binom.cdf(np.round(z_transformed).astype(int), n=n, p=p)\n",
    "    #print(prob)\n",
    "    \"\"\"\n",
    "    #Calculate probabilities explicitly\n",
    "    prob=np.zeros(len(z))\n",
    "    for i in range(len(z_transformed)):\n",
    "        # For each z[i], compute the cumulative probability (binomial CDF)\n",
    "        prob[i] = np.sum([comb(n, k) * p**k * (1 - p)**(n - k) for k in range(int(z_transformed[i]) + 1)])\n",
    "\n",
    "    However, this code is very slow, so instead we use the binom function from scipy.stats\n",
    "    \"\"\"\n",
    "    # Use vectorized comparison to calculate the CDF values\n",
    "    cdf_diff=np.diff(F_n)\n",
    "    cdf_diff_norm=np.diff(norm.cdf(z))\n",
    "    z_1=z[1:]\n",
    "    #Plot results\n",
    "    fig, axes=plt.subplots(nrows=1, ncols=2, figsize=(10, 6))\n",
    "    fig.tight_layout()\n",
    "    axes[0].step(z, F_n)\n",
    "    axes[0].step(z, norm.cdf(z))\n",
    "    axes[1].step(z_1, cdf_diff/(8/resolution))\n",
    "    axes[1].step(z_1, cdf_diff_norm/(8/resolution))\n",
    "    plt.show()\n",
    "    delta=np.max(abs(F_n-norm.cdf(z)))\n",
    "    print(f'Der Maximale Abstand zwischen Normalverteilung und empirischer Verteilung beträgt {delta}')\n",
    "   \n",
    "slider_n=widgets.FloatSlider(value=1.3, min=1.1, max=10, description='log_10(n)', description_width='auto', orientation='horizontal', layout=widgets.Layout(width='500px'), readout=True)\n",
    "slider_res=widgets.IntSlider(value=10, min=3, max=200, description='Auflösung', orientation='horizontal', layout=widgets.Layout(width='500px'), readout=True)\n",
    "slider_p=widgets.FloatSlider(value=0.5, min=0.01, max=0.99, description='p', orientation='horizontal', layout=widgets.Layout(width='500px'), readout=True)\n",
    "\n",
    "interact(Simulationslauf, p=slider_p, n=slider_n, resolution=slider_res)"
   ]
  },
  {
   "cell_type": "code",
   "execution_count": 8,
   "id": "a3e3fa63-5429-4fc0-805f-6b9ff89e1bdd",
   "metadata": {},
   "outputs": [
    {
     "data": {
      "text/latex": [
       "Can we infer a speed of convergence in $n$ ? I.e. how fast does the quantity\n",
       "\\[\n",
       "  err(n):=\\sup_{z\\in \\mathbb{R}}|F_n(z)-\\Phi(z)|\n",
       "\\]\n",
       "converge to zero? We guess a power law decay, i.e. for some $\\alpha\\in \\mathbb{R}^+$ make the Ansatz that $err(n)=O(n^{-\\alpha})$. To infer $\\alpha$ from the simulation, we use a doubly-logarithmic plot.\n"
      ],
      "text/plain": [
       "<IPython.core.display.Latex object>"
      ]
     },
     "metadata": {},
     "output_type": "display_data"
    }
   ],
   "source": [
    "%%latex\n",
    "Can we infer a speed of convergence in $n$ ? I.e. how fast does the quantity\n",
    "\\[\n",
    "  err(n):=\\sup_{z\\in \\mathbb{R}}|F_n(z)-\\Phi(z)|\n",
    "\\]\n",
    "converge to zero? We guess a power law decay, i.e. for some $\\alpha\\in \\mathbb{R}^+$ make the Ansatz that $err(n)=O(n^{-\\alpha})$. To infer $\\alpha$ from the simulation, we use a doubly-logarithmic plot."
   ]
  },
  {
   "cell_type": "code",
   "execution_count": 10,
   "id": "20e7b70c-60e3-4a94-842c-73260c89bf20",
   "metadata": {},
   "outputs": [
    {
     "data": {
      "application/vnd.jupyter.widget-view+json": {
       "model_id": "25ebcaf03dd04ee096a88b6a8d419572",
       "version_major": 2,
       "version_minor": 0
      },
      "text/plain": [
       "interactive(children=(FloatSlider(value=1.3, description='log_10(n)', layout=Layout(width='500px'), max=10.0, …"
      ]
     },
     "metadata": {},
     "output_type": "display_data"
    },
    {
     "data": {
      "text/plain": [
       "<function __main__.plotting(n=4)>"
      ]
     },
     "execution_count": 10,
     "metadata": {},
     "output_type": "execute_result"
    }
   ],
   "source": [
    "p=0.4\n",
    "resolution=2000\n",
    "def Error_calculation(n):\n",
    "    #Punkte, für die wir die Verteilungsfunktion auswerten möchten\n",
    "    z=np.linspace(-4, 4, resolution)\n",
    "    n=int(10**n)\n",
    "    #updated z\n",
    "    z_transformed=np.sqrt(n*p*(1-p))*z+n*p\n",
    "    prob=binom.cdf(np.round(z_transformed).astype(int), n=n, p=p)\n",
    "    return np.max(abs(prob-norm.cdf(z)))\n",
    "\n",
    "def plotting(n=4):\n",
    "    n_val=np.linspace(1, n, 100)\n",
    "    Error_calc_vec=np.vectorize(Error_calculation)\n",
    "    errors=Error_calc_vec(n_val)\n",
    "    log_errors=np.log10(errors)\n",
    "    slope, intercept = np.polyfit(n_val, log_errors,  1)\n",
    "    fit=intercept+slope*n_val\n",
    "    print(f'Slope is {slope}')\n",
    "    plt.title('Doppelt logarithmischer Plot |F_n(z)-Phi(z)| vs. n')\n",
    "    plt.xlabel('log_10(n)')\n",
    "    plt.ylabel('log_10(|F_n(z)-Phi(z)|)')\n",
    "    plt.plot(n_val, fit)\n",
    "    plt.plot(n_val, log_errors)\n",
    "    plt.show()\n",
    "\n",
    "slider_n1=widgets.FloatSlider(value=1.3, min=1.1, max=10, description='log_10(n)', description_width='auto', orientation='horizontal', layout=widgets.Layout(width='500px'), readout=True)\n",
    "interact(plotting, n=slider_n1)"
   ]
  },
  {
   "cell_type": "code",
   "execution_count": 12,
   "id": "9830bc2c-82d1-4401-a62f-c6a8cf38b863",
   "metadata": {},
   "outputs": [
    {
     "data": {
      "text/latex": [
       "The above suggests that $\\alpha=1/2$, i.e.\n",
       "\\[\n",
       "\\sup_{z\\in \\mathbb{R}}|F_n(z)-\\Phi(z)|=O(n^{-1/2})\n",
       "\\]\n",
       "This can indeed be proven (refer to the Berry-Esseen theorem).\n"
      ],
      "text/plain": [
       "<IPython.core.display.Latex object>"
      ]
     },
     "metadata": {},
     "output_type": "display_data"
    }
   ],
   "source": [
    "%%latex\n",
    "The above suggests that $\\alpha=1/2$, i.e.\n",
    "\\[\n",
    "\\sup_{z\\in \\mathbb{R}}|F_n(z)-\\Phi(z)|=O(n^{-1/2})\n",
    "\\]\n",
    "This can indeed be proven (refer to the Berry-Esseen theorem)."
   ]
  },
  {
   "cell_type": "code",
   "execution_count": null,
   "id": "21038280-8ef4-4983-9f73-d73b8d21f6d5",
   "metadata": {},
   "outputs": [],
   "source": []
  },
  {
   "cell_type": "code",
   "execution_count": null,
   "id": "0eedeb58-cb77-486a-a078-c3c57fa55600",
   "metadata": {},
   "outputs": [],
   "source": []
  },
  {
   "cell_type": "code",
   "execution_count": null,
   "id": "3da6c4a3-d976-4b69-96b8-6b103ea2f89e",
   "metadata": {},
   "outputs": [],
   "source": []
  },
  {
   "cell_type": "code",
   "execution_count": null,
   "id": "eb175306-70f8-468b-9800-5a2b427ff246",
   "metadata": {},
   "outputs": [],
   "source": []
  }
 ],
 "metadata": {
  "kernelspec": {
   "display_name": "Python [conda env:base] *",
   "language": "python",
   "name": "conda-base-py"
  },
  "language_info": {
   "codemirror_mode": {
    "name": "ipython",
    "version": 3
   },
   "file_extension": ".py",
   "mimetype": "text/x-python",
   "name": "python",
   "nbconvert_exporter": "python",
   "pygments_lexer": "ipython3",
   "version": "3.12.7"
  }
 },
 "nbformat": 4,
 "nbformat_minor": 5
}
