{
 "cells": [
  {
   "cell_type": "code",
   "execution_count": 1,
   "id": "10e66798-4f88-401b-9039-ce739f21cd6e",
   "metadata": {},
   "outputs": [
    {
     "data": {
      "text/latex": [
       "$\\newcommand{\\RR}{\\mathbb{R}}$\n",
       "$\\newcommand{\\Var}{\\mathrm{Var}}$\n",
       "Sei $(X_i)_{i\\in \\mathbb{N}}$ eine Folge unabhängig, identisch verteilter Zufallsvariablen mit $\\mathbb{E}|X_1|<\\infty$. Dann gilt für alle $\\epsilon>0$\n",
       "\\[\n",
       "\\mathbb{P}\\left(\\left|\\frac{1}{N}\\sum_{k=1}^NX_k-\\mathbb{E}[X_1]\\right|<\\epsilon\\right)\\to 1\\quad  \\Leftrightarrow \\quad \\mathbb{P}\\left(\\left|\\frac{1}{N}\\sum_{k=1}^NX_k-\\mathbb{E}[X_1]\\right|>\\epsilon\\right)=:p(\\epsilon, N)\\to 0\n",
       "\\]\n",
       "Unter der zusätzlichen Annahme $\\Var(X_1)<\\infty$ lässt sich dies mithilfe der Tschebycheff Ungleichung einsehen\n",
       "\\[\n",
       "\\mathbb{P}\\left(\\left|\\frac{1}{N}\\sum_{k=1}^NX_k-\\mathbb{E}[X_1]\\right|>\\epsilon\\right)\\leq \\frac{\\Var(\\frac{1}{N}\\sum_{k=1}^NX_k)}{\\epsilon^2}=\\frac{\\Var(X_1)}{N\\epsilon^2}=:t(\\epsilon, N)\n",
       "\\]\n",
       "Wir wollen sehen, wie scharf die Tschebycheff Ungleichung ist, also simulieren wir die Größen $p(\\epsilon, N)$ und $t(\\epsilon, N)$ für ein fixes $\\epsilon>0$ und verschiedene Werte von $N$.\n"
      ],
      "text/plain": [
       "<IPython.core.display.Latex object>"
      ]
     },
     "metadata": {},
     "output_type": "display_data"
    }
   ],
   "source": [
    "%%latex\n",
    "$\\newcommand{\\RR}{\\mathbb{R}}$\n",
    "$\\newcommand{\\Var}{\\mathrm{Var}}$\n",
    "Sei $(X_i)_{i\\in \\mathbb{N}}$ eine Folge unabhängig, identisch verteilter Zufallsvariablen mit $\\mathbb{E}|X_1|<\\infty$. Dann gilt für alle $\\epsilon>0$\n",
    "\\[\n",
    "\\mathbb{P}\\left(\\left|\\frac{1}{N}\\sum_{k=1}^NX_k-\\mathbb{E}[X_1]\\right|<\\epsilon\\right)\\to 1\\quad  \\Leftrightarrow \\quad \\mathbb{P}\\left(\\left|\\frac{1}{N}\\sum_{k=1}^NX_k-\\mathbb{E}[X_1]\\right|>\\epsilon\\right)=:p(\\epsilon, N)\\to 0\n",
    "\\]\n",
    "Unter der zusätzlichen Annahme $\\Var(X_1)<\\infty$ lässt sich dies mithilfe der Tschebycheff Ungleichung einsehen\n",
    "\\[\n",
    "\\mathbb{P}\\left(\\left|\\frac{1}{N}\\sum_{k=1}^NX_k-\\mathbb{E}[X_1]\\right|>\\epsilon\\right)\\leq \\frac{\\Var(\\frac{1}{N}\\sum_{k=1}^NX_k)}{\\epsilon^2}=\\frac{\\Var(X_1)}{N\\epsilon^2}=:t(\\epsilon, N)\n",
    "\\]\n",
    "Wir wollen sehen, wie scharf die Tschebycheff Ungleichung ist, also simulieren wir die Größen $p(\\epsilon, N)$ und $t(\\epsilon, N)$ für ein fixes $\\epsilon>0$ und verschiedene Werte von $N$."
   ]
  },
  {
   "cell_type": "code",
   "execution_count": 5,
   "id": "4ab0bba1-704c-475d-82bc-86a6803e9829",
   "metadata": {},
   "outputs": [
    {
     "data": {
      "application/vnd.jupyter.widget-view+json": {
       "model_id": "6883d8ba4e074282b550eead68d207b8",
       "version_major": 2,
       "version_minor": 0
      },
      "text/plain": [
       "interactive(children=(FloatSlider(value=0.5, description='p', layout=Layout(width='500px'), max=0.99, min=0.01…"
      ]
     },
     "metadata": {},
     "output_type": "display_data"
    },
    {
     "data": {
      "text/plain": [
       "<function __main__.plotting(p=0.5, n=10, epsilon=0.01)>"
      ]
     },
     "execution_count": 5,
     "metadata": {},
     "output_type": "execute_result"
    }
   ],
   "source": [
    "import matplotlib.pyplot as plt\n",
    "from matplotlib.widgets import Slider\n",
    "import seaborn as sns\n",
    "import numpy as np\n",
    "import scipy.stats as stats\n",
    "from scipy.stats import norm\n",
    "from ipywidgets import interact\n",
    "import ipywidgets as widgets\n",
    "from scipy.special import comb\n",
    "from scipy.stats import binom\n",
    "\n",
    "\"\"\"\n",
    "Die folgende Funktion nimmt an als Parameter:\n",
    "p = Erfolgswahrscheinlichkeit\n",
    "N = log_10(Wie viele Zufallsvariablen wir summieren)\n",
    "n= Parameter der Binomialverteilung\n",
    "resolution = Für wie viele Werte von z wir uns die Verteilungsfunktion ansehen möchten\n",
    "\"\"\"\n",
    "\n",
    "def Simulationslauf(p=0.5, n=10, epsilon=0.01):\n",
    "    return 1-(binom.cdf(int(epsilon*n+n*p), n, p)-binom.cdf(int(-epsilon*n+n*p), n, p))\n",
    "\n",
    "def plotting(p=0.5, n=10, epsilon=0.01):\n",
    "    #make sure the values for ns are all integers, otherwise we can't calculate binomial distribution for such n\n",
    "    n=int(10**n)\n",
    "    ns=np.linspace(1, n, 2000, dtype=int)\n",
    "    err = np.array([Simulationslauf(p, n_i, epsilon) for n_i in ns])\n",
    "    ones=np.zeros(len(ns))+1\n",
    "    #We cut off at 1, since beyond one we have no gain of information. \n",
    "    tscheb = np.minimum(p * (1 - p) / (ns * epsilon**2), 1)\n",
    "    plt.xlabel('n')\n",
    "    plt.title('Exact calculation vs. Tschebycheff')\n",
    "    plt.plot(ns, err, label='p(epsilon, N)')\n",
    "    plt.plot(ns, tscheb, label='t(epsilon, N)')\n",
    "    plt.legend()\n",
    "    plt.show()\n",
    "\n",
    "slider_n=widgets.FloatSlider(value=1, min=1, max=10, description='log_10(n)', description_width='auto', orientation='horizontal', layout=widgets.Layout(width='500px'), readout=True)\n",
    "slider_p=widgets.FloatSlider(value=0.5, min=0.01, max=0.99, description='p', orientation='horizontal', layout=widgets.Layout(width='500px'), readout=True)\n",
    "\n",
    "\n",
    "interact(plotting, p=slider_p, n=slider_n, epsilon=[0.1, 0.01, 0.001])\n"
   ]
  },
  {
   "cell_type": "code",
   "execution_count": null,
   "id": "56d594e0-1547-41f1-8899-6eca3ee8f30b",
   "metadata": {},
   "outputs": [],
   "source": []
  }
 ],
 "metadata": {
  "kernelspec": {
   "display_name": "Python [conda env:base] *",
   "language": "python",
   "name": "conda-base-py"
  },
  "language_info": {
   "codemirror_mode": {
    "name": "ipython",
    "version": 3
   },
   "file_extension": ".py",
   "mimetype": "text/x-python",
   "name": "python",
   "nbconvert_exporter": "python",
   "pygments_lexer": "ipython3",
   "version": "3.12.7"
  }
 },
 "nbformat": 4,
 "nbformat_minor": 5
}
