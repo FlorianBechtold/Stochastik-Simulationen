{
 "cells": [
  {
   "cell_type": "code",
   "execution_count": 1,
   "id": "fcc39ed2-3871-47b3-b1c0-2c7fbd134606",
   "metadata": {},
   "outputs": [
    {
     "name": "stdout",
     "output_type": "stream",
     "text": [
      "Eigenvector corresponding to eigenvalue 1 (steady state):\n",
      "[0.3 0.2 0.5]\n"
     ]
    },
    {
     "data": {
      "application/vnd.jupyter.widget-view+json": {
       "model_id": "a4a7fbb973f546d4a705ad9bbbfb9b43",
       "version_major": 2,
       "version_minor": 0
      },
      "text/plain": [
       "interactive(children=(IntSlider(value=0, description='Iteration', layout=Layout(width='500px'), max=30), Outpu…"
      ]
     },
     "metadata": {},
     "output_type": "display_data"
    },
    {
     "data": {
      "text/plain": [
       "<function __main__.iteration(n)>"
      ]
     },
     "execution_count": 1,
     "metadata": {},
     "output_type": "execute_result"
    }
   ],
   "source": [
    "import matplotlib.pyplot as plt\n",
    "from matplotlib.widgets import Slider\n",
    "import seaborn as sns\n",
    "import numpy as np\n",
    "import scipy.stats as stats\n",
    "from scipy.stats import norm\n",
    "from ipywidgets import interact\n",
    "import ipywidgets as widgets\n",
    "from scipy.special import comb\n",
    "from scipy.stats import binom\n",
    "\n",
    "matrix=np.array([[0.7, 0.2, 0.1], [0.2, 0.7, 0], [0.1, 0.1, 0.9]])\n",
    "initial_configuration=np.array([1, 0, 0])\n",
    "\n",
    "\n",
    "\n",
    "\n",
    "\n",
    "#Zufällige Übergangsmatrix\n",
    "#stochastic_matrix = np.random.rand(10, 10)\n",
    "# Normalize the rows so that each row sums to 1\n",
    "#matrix = stochastic_matrix / stochastic_matrix.sum(axis=0, keepdims=True)\n",
    "#initial_configuration= [0] * 9 + [1]\n",
    "\n",
    "\n",
    "eigenvalues, eigenvectors = np.linalg.eig(matrix)\n",
    "\n",
    "# Find the index of the eigenvalue 1\n",
    "index = np.isclose(eigenvalues, 1)\n",
    "\n",
    "# The corresponding eigenvector (it will be a column vector)\n",
    "steady_state_vector = eigenvectors[:, index]\n",
    "\n",
    "# Normalize the eigenvector to ensure it sums to 1 (if necessary)\n",
    "steady_state_vector = steady_state_vector / np.sum(steady_state_vector)\n",
    "#make it a list\n",
    "stead=steady_state_vector.flatten()\n",
    "# Print the result\n",
    "print(\"Eigenvector corresponding to eigenvalue 1 (steady state):\")\n",
    "print(stead)\n",
    "\n",
    "def iteration(n):\n",
    "    new_state=np.matmul(np.linalg.matrix_power(matrix, n), np.transpose(initial_configuration))\n",
    "    x=range(len(initial_configuration))\n",
    "    plt.bar(x, new_state, label=f'Probabilities after {n} iterations')\n",
    "    plt.ylim(0, 1)\n",
    "    plt.xlabel('states')\n",
    "    plt.ylabel('Probability')\n",
    "    plt.xticks(x)\n",
    "    plt.title(f'Probability of states after {n} iterations')\n",
    "    plt.scatter(x, stead, s=200, marker='+', label='Asymptotically expectet probabilities')\n",
    "    plt.legend()\n",
    "    plt.show()\n",
    "    \n",
    "    #Check that total probabilities add up to 1\n",
    "    print(new_state.sum())\n",
    "\n",
    "\n",
    "slider_res=widgets.IntSlider(value=0, min=0, max=30, description='Iteration', orientation='horizontal', layout=widgets.Layout(width='500px'), readout=True)\n",
    "\n",
    "# Use interact to link the slider with the iteration function\n",
    "interact(iteration, n=slider_res)\n"
   ]
  },
  {
   "cell_type": "code",
   "execution_count": null,
   "id": "ef0320f0-9035-4386-939a-17485feee7c9",
   "metadata": {},
   "outputs": [],
   "source": []
  }
 ],
 "metadata": {
  "kernelspec": {
   "display_name": "Python [conda env:base] *",
   "language": "python",
   "name": "conda-base-py"
  },
  "language_info": {
   "codemirror_mode": {
    "name": "ipython",
    "version": 3
   },
   "file_extension": ".py",
   "mimetype": "text/x-python",
   "name": "python",
   "nbconvert_exporter": "python",
   "pygments_lexer": "ipython3",
   "version": "3.12.7"
  }
 },
 "nbformat": 4,
 "nbformat_minor": 5
}
